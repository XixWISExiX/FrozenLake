{
 "cells": [
  {
   "cell_type": "markdown",
   "metadata": {},
   "source": [
    "1. Installing and importing dependencies"
   ]
  },
  {
   "cell_type": "code",
   "execution_count": null,
   "metadata": {},
   "outputs": [],
   "source": [
    "# Provides a stable environment for breakout\n",
    "# !pip install stable-baselines[mpi]==2.8.0\n",
    "# Download and install ROMs (makes Gymnasium run breakout)\n",
    "# !pip install gymnasuim[all,accept-rom-license]\n",
    "# !gdown -q http://www.atarimania.com/roms/Roms.rar\n",
    "# !pip install -q unrar\n",
    "# !mkdir ./roms_atari\n",
    "# !unrar x Roms.rar ./roms_atari > /dev/null 2>&1\n",
    "# !python -m atari_py.import_roms ./roms_atari > /dev/null 2>&1"
   ]
  },
  {
   "cell_type": "code",
   "execution_count": null,
   "metadata": {},
   "outputs": [],
   "source": [
    "# !pip install gym\n",
    "# !pip install tensorflow\n",
    "# !pip install matplotlib\n",
    "# !pip install gymnasium[atari]\n",
    "# !pip install gymnasium[accept-rom-license]\n",
    "# ---- !pip install opencv-python\n",
    "# !pip install scipy\n",
    "# ---- !pip install git+https://github.com/openai/baselines\n"
   ]
  },
  {
   "cell_type": "markdown",
   "metadata": {},
   "source": [
    "2. Examining the Breakout environment"
   ]
  },
  {
   "cell_type": "code",
   "execution_count": 7,
   "metadata": {},
   "outputs": [
    {
     "data": {
      "image/png": "[encoded data removed]",
      "text/plain": [
       "<Figure size 640x480 with 1 Axes>"
      ]
     },
     "metadata": {},
     "output_type": "display_data"
    }
   ],
   "source": [
    "# from baselines.common.atari_wrappers import make_atari, wrap_deepmind\n",
    "import gymnasium\n",
    "import numpy as np\n",
    "import tensorflow as tf\n",
    "from tensorflow import keras\n",
    "from tensorflow.keras import layers\n",
    "import matplotlib.pyplot as plt\n",
    "import random\n",
    "\n",
    "env = gymnasium.make('ALE/Breakout-v5')\n",
    "obs = env.reset()\n",
    "# print(obs[0])\n",
    "obs_arr = np.array(obs[0])\n",
    "plt.imshow(obs_arr)\n",
    "plt.title(\"Breakout Visualization\")\n",
    "plt.show()\n",
    "\n",
    "\n",
    "# observation = env.reset()"
   ]
  },
  {
   "cell_type": "code",
   "execution_count": 34,
   "metadata": {},
   "outputs": [
    {
     "ename": "ValueError",
     "evalue": "setting an array element with a sequence. The requested array has an inhomogeneous shape after 3 dimensions. The detected shape was (2, 210, 160) + inhomogeneous part.",
     "output_type": "error",
     "traceback": [
      "\u001b[0;31m---------------------------------------------------------------------------\u001b[0m",
      "\u001b[0;31mValueError\u001b[0m                                Traceback (most recent call last)",
      "Cell \u001b[0;32mIn[34], line 14\u001b[0m\n\u001b[1;32m     12\u001b[0m next_arr \u001b[38;5;241m=\u001b[39m np\u001b[38;5;241m.\u001b[39marray(next_state[\u001b[38;5;241m0\u001b[39m])\n\u001b[1;32m     13\u001b[0m arr \u001b[38;5;241m=\u001b[39m [grayscale_array, next_arr]\n\u001b[0;32m---> 14\u001b[0m npy \u001b[38;5;241m=\u001b[39m \u001b[43mnp\u001b[49m\u001b[38;5;241;43m.\u001b[39;49m\u001b[43marray\u001b[49m\u001b[43m(\u001b[49m\u001b[43marr\u001b[49m\u001b[43m)\u001b[49m\n\u001b[1;32m     15\u001b[0m \u001b[38;5;66;03m# arr.append(grayscale_array)\u001b[39;00m\n\u001b[1;32m     16\u001b[0m \u001b[38;5;66;03m# print(obs[0])\u001b[39;00m\n\u001b[1;32m     17\u001b[0m \u001b[38;5;66;03m# obs_arr = np.array(obs[0])\u001b[39;00m\n\u001b[1;32m     18\u001b[0m \u001b[38;5;66;03m# trimmed_array = arr[30:-16, 7:-7, :]\u001b[39;00m\n\u001b[1;32m     19\u001b[0m \u001b[38;5;66;03m# print(trimmed_array.shape)\u001b[39;00m\n\u001b[1;32m     20\u001b[0m \u001b[38;5;28mprint\u001b[39m(npy\u001b[38;5;241m.\u001b[39mshape)\n",
      "\u001b[0;31mValueError\u001b[0m: setting an array element with a sequence. The requested array has an inhomogeneous shape after 3 dimensions. The detected shape was (2, 210, 160) + inhomogeneous part."
     ]
    }
   ],
   "source": [
    "\n",
    "import numpy as np\n",
    "import gymnasium\n",
    "\n",
    "env = gymnasium.make('ALE/Breakout-v5')\n",
    "obs = env.reset()\n",
    "rgb_array = np.array(env.reset()[0])\n",
    "grayscale_array = np.mean(rgb_array, axis=-1, keepdims=True)\n",
    "# Take an action in the environment\n",
    "action = env.action_space.sample()  # Replace this with your desired action\n",
    "# next_state, reward, done, info = env.step(action)\n",
    "next_state = env.step(action)\n",
    "next_arr = np.array(next_state[0])\n",
    "arr = [grayscale_array, next_arr]\n",
    "npy = np.array(arr)\n",
    "# arr.append(grayscale_array)\n",
    "# print(obs[0])\n",
    "# obs_arr = np.array(obs[0])\n",
    "# trimmed_array = arr[30:-16, 7:-7, :]\n",
    "# print(trimmed_array.shape)\n",
    "print(npy.shape)\n",
    "# plt.imshow(next_state[0])\n",
    "# plt.imshow(trimmed_array)\n",
    "plt.imshow(npy)\n",
    "plt.title(\"Breakout Visualization\")\n",
    "plt.show()\n",
    "\n",
    "\n",
    "# observation = env.reset()"
   ]
  },
  {
   "cell_type": "code",
   "execution_count": null,
   "metadata": {},
   "outputs": [],
   "source": [
    "from scipy.ndimage import zoom\n",
    "from gymnasium.wrappers import RescaleAction\n",
    "env = gymnasium.make('ALE/Breakout-v5')\n",
    "wrapped_env = RescaleAction(env, min_action=0, max_action=1)\n",
    "# env = gymnasium.make(\"BreakoutNoFrameskip-v4\", env_id=\"ALE/Breakout-v5\")\n",
    "# env = wrap_deepmind(env, frame_stack=True, scale=True)\n",
    "rgb_array = np.array(env.reset()[0])\n",
    "# print(obs.shape)\n",
    "grayscale_array = np.mean(rgb_array, axis=-1, keepdims=True)\n",
    "# obs = rgb_array \n",
    "obs = grayscale_array\n",
    "# TODO try and make the preprocessing by deleting the header and downsize the image to 84x84, (noralize brightness), stack 4 consecutave frames\n",
    "# trimmed_array = grayscale_array[:, 7:-7, :]\n",
    "print(env.observation_space.shape[0])\n",
    "# obs = trimmed_array\n",
    "print(obs.shape)\n",
    "\n",
    "plt.title(\"Agent Observation (4 frames)\")\n",
    "plt.imshow(obs.transpose([0, 2, 1]).reshape([env.observation_space.shape[0], -1]))\n",
    "# plt.imshow(obs)\n",
    "# resized_array = zoom(grayscale_array, zoom=(84/210, 84/160, 4), order=1)\n",
    "\n",
    "# print(grayscale_array.shape)\n",
    "# # obs = rgb_array \n",
    "# # obs = grayscale_array\n",
    "# obs = resized_array \n",
    "# print(obs.shape)\n",
    "# plt.subplot(1, 2, 2)\n",
    "# # env = resized_array\n",
    "# plt.title(\"Agent Observation (4 frames)\")\n",
    "# # plt.imshow(obs.transpose([0, 2, 1]).reshape([env.observation_space.shape[0], -1]))\n",
    "# plt.imshow(resized_array[:, :, 0])"
   ]
  },
  {
   "cell_type": "code",
   "execution_count": 5,
   "metadata": {},
   "outputs": [
    {
     "ename": "",
     "evalue": "",
     "output_type": "error",
     "traceback": [
      "\u001b[1;31mThe Kernel crashed while executing code in the the current cell or a previous cell. Please review the code in the cell(s) to identify a possible cause of the failure. Click <a href='https://aka.ms/vscodeJupyterKernelCrash'>here</a> for more info. View Jupyter <a href='command:jupyter.viewOutput'>log</a> for further details."
     ]
    }
   ],
   "source": [
    "# Visualize the breakout environment\n",
    "env = gymnasium.make('ALE/Breakout-v5', render_mode='human')\n",
    "observation, info = env.reset(seed=42)\n",
    "for _ in range(1000):\n",
    "   action = env.action_space.sample()  # this is where you would insert your policy\n",
    "   observation, reward, terminated, truncated, info = env.step(action)\n",
    "\n",
    "   if terminated or truncated:\n",
    "      observation, info = env.reset()\n",
    "\n",
    "env.close()"
   ]
  },
  {
   "cell_type": "code",
   "execution_count": 91,
   "metadata": {},
   "outputs": [
    {
     "data": {
      "text/plain": [
       "['NOOP', 'FIRE', 'RIGHT', 'LEFT']"
      ]
     },
     "execution_count": 91,
     "metadata": {},
     "output_type": "execute_result"
    }
   ],
   "source": [
    "height, width, channels = env.observation_space.shape\n",
    "env.unwrapped.get_action_meanings()"
   ]
  },
  {
   "cell_type": "code",
   "execution_count": null,
   "metadata": {},
   "outputs": [],
   "source": [
    "# Configuration paramaters for the whole setup\n",
    "seed = 42\n",
    "gamma = 0.99 # Discount factor for past rewards\n",
    "epsilon = 1.0 # Epsilon greedy parameter \n",
    "epsilon_min = 0.1 # Minimum epsilon greedy paramter\n",
    "epsilon_max = 1.0 # Maximum epsilon greedy paramter\n",
    "\n",
    "epsilon_interval = (\n",
    "    epsilon_max - epsilon_min\n",
    ") # Rate at which to reduce chance of random action being taken\n",
    "batch_size = 32 # Size of batch taken from replay buffer\n",
    "max_steps_per_episode = 10000\n",
    "\n",
    "# env = wrap_deepmind(env, frame_stack=True, scale=True)\n",
    "env.seed(seed)"
   ]
  },
  {
   "cell_type": "markdown",
   "metadata": {},
   "source": [
    "3. Creating a model - Deep convolutional neural network"
   ]
  },
  {
   "cell_type": "code",
   "execution_count": 112,
   "metadata": {},
   "outputs": [],
   "source": [
    "num_actions = 4\n",
    "\n",
    "def create_q_model():\n",
    "    # Network defined by the Deepmind paper\n",
    "    inputs = layers.Input(shape=(84, 84, 4,))\n",
    "\n",
    "    layer1 = layers.Conv2D(32, 8, strides=4, activation=\"relu\")(inputs)\n",
    "    layer2 = layers.Conv2D(64, 4, strides=2, activation=\"relu\")(layer1)\n",
    "    layer3 = layers.Conv2D(64, 3, strides=1, activation=\"relu\")(layer2)\n",
    "\n",
    "    layer4 = layers.Flatten()(layer3)\n",
    "\n",
    "    layer5 = layers.Dense(512, activation=\"relu\")(layer4)\n",
    "    action = layers.Dense(num_actions, activation=\"linear\")(layer5)\n",
    "\n",
    "    return keras.Model(inputs=inputs, outputs=action)\n",
    "\n",
    "# The first model makes the predictions for Q-values which are used to make an action.\n",
    "model = create_q_model()\n",
    "# Build a target model for the prediction of future rewards.\n",
    "# The weights of a target model get updated every 10000 steps thus when the\n",
    "# loss between the Q-values is calculated the target Q-value is stable.\n",
    "model_target = create_q_model()"
   ]
  },
  {
   "cell_type": "markdown",
   "metadata": {},
   "source": [
    "4. Configuring the paramaters and model training"
   ]
  },
  {
   "cell_type": "code",
   "execution_count": null,
   "metadata": {},
   "outputs": [],
   "source": [
    "# In the Deepmind paper they use RMSProp however then Adam optimizer which improves training time\n",
    "optimizer = keras.optimizers.Adam(learning_rate=0.00025, clipnorm=1.0)\n",
    "\n",
    "# Experience replay buffers\n",
    "action_history = []\n",
    "state_history = []\n",
    "state_next_history = []\n",
    "rewards_history = []\n",
    "done_history = []\n",
    "episode_reward_history = []\n",
    "running_reward = 0\n",
    "episode_count = 0\n",
    "frame_count = 0\n",
    "\n",
    "# Number of frames to take random action and observe output\n",
    "epsilon_random_frames = 50000\n",
    "# Number of frames for exploration\n",
    "epsilon_greedy_frames = 1000000.0\n",
    "# Maximum replay length\n",
    "# Note: The Deepmind paper suggests 1000000 however this causes memory issues\n",
    "max_memory_length = 100000\n",
    "# Train the model after 4 actions\n",
    "update_after_actions = 4\n",
    "update_target_network = 10000\n",
    "# Using huber loss for stability\n",
    "loss_function = keras.losses.Huber()"
   ]
  },
  {
   "cell_type": "markdown",
   "metadata": {},
   "source": [
    "5. Evaluating and saving the model"
   ]
  },
  {
   "cell_type": "code",
   "execution_count": null,
   "metadata": {},
   "outputs": [],
   "source": [
    "while True:  # Run until solved\n",
    "    state = np.array(env.reset())\n",
    "    episode_reward = 0\n",
    "\n",
    "    for timestep in range(1, max_steps_per_episode):\n",
    "        # env.render(); Adding this line would show the attempts\n",
    "        # of the agent in a pop up window.\n",
    "        frame_count += 1\n",
    "\n",
    "        # Use epsilon-greedy for exploration\n",
    "        if frame_count < epsilon_random_frames or epsilon > np.random.rand(1)[0]:\n",
    "            # Take random action\n",
    "            action = np.random.choice(num_actions)\n",
    "        else:\n",
    "            # Predict action Q-values\n",
    "            # From environment state\n",
    "            state_tensor = tf.convert_to_tensor(state)\n",
    "            state_tensor = tf.expand_dims(state_tensor, 0)\n",
    "            action_probs = model(state_tensor, training=False)\n",
    "            # Take best action\n",
    "            action = tf.argmax(action_probs[0]).numpy()\n",
    "\n",
    "        # Decay probability of taking random action\n",
    "        epsilon -= epsilon_interval / epsilon_greedy_frames\n",
    "        epsilon = max(epsilon, epsilon_min)\n",
    "\n",
    "        # Apply the sampled action in our environment\n",
    "        state_next, reward, done, _ = env.step(action)\n",
    "        state_next = np.array(state_next)\n",
    "\n",
    "        episode_reward += reward\n",
    "\n",
    "        # Save actions and states in replay buffer\n",
    "        action_history.append(action)\n",
    "        state_history.append(state)\n",
    "        state_next_history.append(state_next)\n",
    "        done_history.append(done)\n",
    "        rewards_history.append(reward)\n",
    "        state = state_next\n",
    "\n",
    "        # Update every fourth frame and once batch size is over 32\n",
    "        if frame_count % update_after_actions == 0 and len(done_history) > batch_size:\n",
    "\n",
    "            # Get indices of samples for replay buffers\n",
    "            indices = np.random.choice(range(len(done_history)), size=batch_size)\n",
    "\n",
    "            # Using list comprehension to sample from replay buffer\n",
    "            state_sample = np.array([state_history[i] for i in indices])\n",
    "            state_next_sample = np.array([state_next_history[i] for i in indices])\n",
    "            rewards_sample = [rewards_history[i] for i in indices]\n",
    "            action_sample = [action_history[i] for i in indices]\n",
    "            done_sample = tf.convert_to_tensor(\n",
    "                [float(done_history[i]) for i in indices]\n",
    "            )\n",
    "\n",
    "            # Build the updated Q-values for the sampled future states\n",
    "            # Use the target model for stability\n",
    "            future_rewards = model_target.predict(state_next_sample)\n",
    "            # Q value = reward + discount factor * expected future reward\n",
    "            updated_q_values = rewards_sample + gamma * tf.reduce_max(\n",
    "                future_rewards, axis=1\n",
    "            )\n",
    "\n",
    "            # If final frame set the last value to -1\n",
    "            updated_q_values = updated_q_values * (1 - done_sample) - done_sample\n",
    "\n",
    "            # Create a mask so we only calculate loss on the updated Q-values\n",
    "            masks = tf.one_hot(action_sample, num_actions)\n",
    "\n",
    "            with tf.GradientTape() as tape:\n",
    "                # Train the model on the states and updated Q-values\n",
    "                q_values = model(state_sample)\n",
    "\n",
    "                # Apply the masks to the Q-values to get the Q-value for action taken\n",
    "                q_action = tf.reduce_sum(tf.multiply(q_values, masks), axis=1)\n",
    "                # Calculate loss between new Q-value and old Q-value\n",
    "                loss = loss_function(updated_q_values, q_action)\n",
    "\n",
    "            # Backpropagation\n",
    "            grads = tape.gradient(loss, model.trainable_variables)\n",
    "            optimizer.apply_gradients(zip(grads, model.trainable_variables))\n",
    "\n",
    "        if frame_count % update_target_network == 0:\n",
    "            # update the the target network with new weights\n",
    "            model_target.set_weights(model.get_weights())\n",
    "            # Log details\n",
    "            template = \"running reward: {:.2f} at episode {}, frame count {}\"\n",
    "            print(template.format(running_reward, episode_count, frame_count))\n",
    "\n",
    "        # Limit the state and reward history\n",
    "        if len(rewards_history) > max_memory_length:\n",
    "            del rewards_history[:1]\n",
    "            del state_history[:1]\n",
    "            del state_next_history[:1]\n",
    "            del action_history[:1]\n",
    "            del done_history[:1]\n",
    "\n",
    "        if done:\n",
    "            break\n",
    "\n",
    "    # Update running reward to check condition for solving\n",
    "    episode_reward_history.append(episode_reward)\n",
    "    if len(episode_reward_history) > 100:\n",
    "        del episode_reward_history[:1]\n",
    "    running_reward = np.mean(episode_reward_history)\n",
    "\n",
    "    episode_count += 1\n",
    "\n",
    "    if running_reward > 40:  # Condition to consider the task solved\n",
    "        print(\"Solved at episode {}!\".format(episode_count))\n",
    "        break"
   ]
  },
  {
   "cell_type": "markdown",
   "metadata": {},
   "source": [
    "6. Making videos of our agent play"
   ]
  }
 ],
 "metadata": {
  "kernelspec": {
   "display_name": "Python 3",
   "language": "python",
   "name": "python3"
  },
  "language_info": {
   "codemirror_mode": {
    "name": "ipython",
    "version": 3
   },
   "file_extension": ".py",
   "mimetype": "text/x-python",
   "name": "python",
   "nbconvert_exporter": "python",
   "pygments_lexer": "ipython3",
   "version": "3.10.12"
  }
 },
 "nbformat": 4,
 "nbformat_minor": 2
}
