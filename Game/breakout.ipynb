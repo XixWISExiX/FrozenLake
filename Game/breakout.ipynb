{
 "cells": [
  {
   "cell_type": "markdown",
   "metadata": {},
   "source": [
    "1. Installing and importing dependencies"
   ]
  },
  {
   "cell_type": "code",
   "execution_count": null,
   "metadata": {},
   "outputs": [],
   "source": [
    "# Provides a stable environment for breakout\n",
    "# !pip install stable-baselines[mpi]==2.8.0\n",
    "# Download and install ROMs (makes Gymnasium run breakout)\n",
    "# !pip install gymnasuim[all,accept-rom-license]\n",
    "# !gdown -q http://www.atarimania.com/roms/Roms.rar\n",
    "# !pip install -q unrar\n",
    "# !mkdir ./roms_atari\n",
    "# !unrar x Roms.rar ./roms_atari > /dev/null 2>&1\n",
    "# !python -m atari_py.import_roms ./roms_atari > /dev/null 2>&1"
   ]
  },
  {
   "cell_type": "code",
   "execution_count": null,
   "metadata": {},
   "outputs": [],
   "source": [
    "# !pip install gym\n",
    "# !pip install tensorflow\n",
    "# !pip install matplotlib\n",
    "# !pip install gymnasium[atari]\n",
    "# !pip install gymnasium[accept-rom-license]"
   ]
  },
  {
   "cell_type": "markdown",
   "metadata": {},
   "source": [
    "2. Examining the Breakout environment"
   ]
  },
  {
   "cell_type": "code",
   "execution_count": null,
   "metadata": {},
   "outputs": [],
   "source": [
    "# from baselines.common.atari_wrappers import make_atari, wrap_deepmind\n",
    "import gymnasium\n",
    "import numpy as np\n",
    "import tensorflow as tf\n",
    "from tensorflow import keras\n",
    "from tensorflow.keras import layers\n",
    "import matplotlib.pyplot as plt\n",
    "\n",
    "env = gymnasium.make('ALE/Breakout-v5')\n",
    "obs = env.reset()\n",
    "# print(obs[0])\n",
    "obs_arr = np.array(obs[0])\n",
    "plt.imshow(obs_arr)\n",
    "plt.title(\"Raw Observation\")\n",
    "plt.show()\n",
    "\n",
    "\n",
    "# observation = env.reset()"
   ]
  },
  {
   "cell_type": "code",
   "execution_count": 91,
   "metadata": {},
   "outputs": [
    {
     "data": {
      "text/plain": [
       "['NOOP', 'FIRE', 'RIGHT', 'LEFT']"
      ]
     },
     "execution_count": 91,
     "metadata": {},
     "output_type": "execute_result"
    }
   ],
   "source": [
    "height, width, channels = env.observation_space.shape\n",
    "env.unwrapped.get_action_meanings()"
   ]
  },
  {
   "cell_type": "code",
   "execution_count": null,
   "metadata": {},
   "outputs": [],
   "source": [
    "import random\n",
    "episodes = 5\n",
    "env.metadata['render_fps'] = 60  # You can adjust the fps value\n",
    "for episode in range(episodes):\n",
    "    state = env.reset()\n",
    "    # env.reset()\n",
    "    done = False\n",
    "    score = 0\n",
    "\n",
    "    while not done:\n",
    "        # env.render()\n",
    "        obs = env.render(mode='rgb_array')\n",
    "        # env.render(mode='human')\n",
    "        plt.imshow(obs)\n",
    "        plt.show()\n",
    "\n",
    "        action = random.choice([0,1,2,3])\n",
    "        n_state, reward, done, info = env.step(action)\n",
    "        score+=reward\n",
    "    print(\"Episode:{} Score:{}\".format(episode, score))\n",
    "env.close()"
   ]
  },
  {
   "cell_type": "markdown",
   "metadata": {},
   "source": [
    "3. Creating a model - Deep convolutional neural network"
   ]
  },
  {
   "cell_type": "markdown",
   "metadata": {},
   "source": [
    "4. Configuring the paramaters and model training"
   ]
  },
  {
   "cell_type": "markdown",
   "metadata": {},
   "source": [
    "5. Evaluating and saving the model"
   ]
  },
  {
   "cell_type": "markdown",
   "metadata": {},
   "source": [
    "6. Making videos of our agent play"
   ]
  }
 ],
 "metadata": {
  "kernelspec": {
   "display_name": "Python 3",
   "language": "python",
   "name": "python3"
  },
  "language_info": {
   "codemirror_mode": {
    "name": "ipython",
    "version": 3
   },
   "file_extension": ".py",
   "mimetype": "text/x-python",
   "name": "python",
   "nbconvert_exporter": "python",
   "pygments_lexer": "ipython3",
   "version": "3.10.12"
  }
 },
 "nbformat": 4,
 "nbformat_minor": 2
}
