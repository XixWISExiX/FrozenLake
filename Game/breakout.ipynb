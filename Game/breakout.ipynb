{
 "cells": [
  {
   "cell_type": "markdown",
   "metadata": {},
   "source": [
    "1. Installing and importing dependencies"
   ]
  },
  {
   "cell_type": "code",
   "execution_count": 1,
   "metadata": {},
   "outputs": [
    {
     "name": "stdout",
     "output_type": "stream",
     "text": [
      "Collecting stable-baselines[mpi]==2.8.0\n",
      "  Downloading stable_baselines-2.8.0-py3-none-any.whl (222 kB)\n",
      "     -------------------------------------- 222.9/222.9 kB 2.3 MB/s eta 0:00:00\n",
      "Collecting gym[atari,classic_control]>=0.10.9 (from stable-baselines[mpi]==2.8.0)\n",
      "  Downloading gym-0.26.2.tar.gz (721 kB)\n",
      "     -------------------------------------- 721.7/721.7 kB 7.6 MB/s eta 0:00:00\n",
      "  Installing build dependencies: started\n",
      "  Installing build dependencies: finished with status 'done'\n",
      "  Getting requirements to build wheel: started\n",
      "  Getting requirements to build wheel: finished with status 'done'\n",
      "  Preparing metadata (pyproject.toml): started\n",
      "  Preparing metadata (pyproject.toml): finished with status 'done'\n",
      "Collecting scipy (from stable-baselines[mpi]==2.8.0)\n",
      "  Downloading scipy-1.7.3-cp37-cp37m-win32.whl (30.6 MB)\n",
      "     --------------------------------------- 30.6/30.6 MB 16.4 MB/s eta 0:00:00\n",
      "Collecting joblib (from stable-baselines[mpi]==2.8.0)\n",
      "  Obtaining dependency information for joblib from https://files.pythonhosted.org/packages/10/40/d551139c85db202f1f384ba8bcf96aca2f329440a844f924c8a0040b6d02/joblib-1.3.2-py3-none-any.whl.metadata\n",
      "  Downloading joblib-1.3.2-py3-none-any.whl.metadata (5.4 kB)\n",
      "Collecting cloudpickle>=0.5.5 (from stable-baselines[mpi]==2.8.0)\n",
      "  Downloading cloudpickle-2.2.1-py3-none-any.whl (25 kB)\n",
      "Collecting opencv-python (from stable-baselines[mpi]==2.8.0)\n",
      "  Obtaining dependency information for opencv-python from https://files.pythonhosted.org/packages/76/9e/db1c2d56c04b97981c06663384f45f28950a73d9acf840c4006d60d0a1ff/opencv_python-4.9.0.80-cp37-abi3-win32.whl.metadata\n",
      "  Downloading opencv_python-4.9.0.80-cp37-abi3-win32.whl.metadata (20 kB)\n",
      "Requirement already satisfied: numpy in c:\\users\\wise\\appdata\\local\\programs\\python\\python37-32\\lib\\site-packages (from stable-baselines[mpi]==2.8.0) (1.21.6)\n",
      "Requirement already satisfied: pandas in c:\\users\\wise\\appdata\\local\\programs\\python\\python37-32\\lib\\site-packages (from stable-baselines[mpi]==2.8.0) (1.3.5)\n",
      "Collecting matplotlib (from stable-baselines[mpi]==2.8.0)\n",
      "  Downloading matplotlib-3.5.3-cp37-cp37m-win32.whl (7.1 MB)\n",
      "     ---------------------------------------- 7.1/7.1 MB 20.6 MB/s eta 0:00:00\n",
      "Collecting mpi4py (from stable-baselines[mpi]==2.8.0)\n",
      "  Obtaining dependency information for mpi4py from https://files.pythonhosted.org/packages/b0/7c/15ff16c2f069c1552cec46ad64afc12e8a3450f1824ce6e0707166132c21/mpi4py-3.1.5-cp37-cp37m-win32.whl.metadata\n",
      "  Downloading mpi4py-3.1.5-cp37-cp37m-win32.whl.metadata (8.0 kB)\n",
      "Collecting gym-notices>=0.0.4 (from gym[atari,classic_control]>=0.10.9->stable-baselines[mpi]==2.8.0)\n",
      "  Downloading gym_notices-0.0.8-py3-none-any.whl (3.0 kB)\n",
      "Requirement already satisfied: importlib-metadata>=4.8.0 in c:\\users\\wise\\appdata\\local\\programs\\python\\python37-32\\lib\\site-packages (from gym[atari,classic_control]>=0.10.9->stable-baselines[mpi]==2.8.0) (6.7.0)\n",
      "INFO: pip is looking at multiple versions of gym[atari,classic-control] to determine which version is compatible with other requirements. This could take a while.\n",
      "Collecting gym[atari,classic_control]>=0.10.9 (from stable-baselines[mpi]==2.8.0)\n",
      "  Downloading gym-0.26.1.tar.gz (719 kB)\n",
      "     ------------------------------------- 719.9/719.9 kB 22.9 MB/s eta 0:00:00\n",
      "  Installing build dependencies: started\n",
      "  Installing build dependencies: finished with status 'done'\n",
      "  Getting requirements to build wheel: started\n",
      "  Getting requirements to build wheel: finished with status 'done'\n",
      "  Preparing metadata (pyproject.toml): started\n",
      "  Preparing metadata (pyproject.toml): finished with status 'done'\n",
      "  Downloading gym-0.26.0.tar.gz (710 kB)\n",
      "     ------------------------------------- 710.3/710.3 kB 21.9 MB/s eta 0:00:00\n",
      "  Installing build dependencies: started\n",
      "  Installing build dependencies: finished with status 'done'\n",
      "  Getting requirements to build wheel: started\n",
      "  Getting requirements to build wheel: finished with status 'done'\n",
      "  Preparing metadata (pyproject.toml): started\n",
      "  Preparing metadata (pyproject.toml): finished with status 'done'\n",
      "  Downloading gym-0.25.2.tar.gz (734 kB)\n",
      "     ------------------------------------- 734.5/734.5 kB 23.4 MB/s eta 0:00:00\n",
      "  Installing build dependencies: started\n",
      "  Installing build dependencies: finished with status 'done'\n",
      "  Getting requirements to build wheel: started\n",
      "  Getting requirements to build wheel: finished with status 'done'\n",
      "  Preparing metadata (pyproject.toml): started\n",
      "  Preparing metadata (pyproject.toml): finished with status 'done'\n",
      "  Downloading gym-0.25.1.tar.gz (732 kB)\n",
      "     ------------------------------------- 732.2/732.2 kB 23.3 MB/s eta 0:00:00\n",
      "  Installing build dependencies: started\n",
      "  Installing build dependencies: finished with status 'done'\n",
      "  Getting requirements to build wheel: started\n",
      "  Getting requirements to build wheel: finished with status 'done'\n",
      "  Preparing metadata (pyproject.toml): started\n",
      "  Preparing metadata (pyproject.toml): finished with status 'done'\n",
      "  Downloading gym-0.25.0.tar.gz (720 kB)\n",
      "     ------------------------------------- 720.4/720.4 kB 22.9 MB/s eta 0:00:00\n",
      "  Installing build dependencies: started\n",
      "  Installing build dependencies: finished with status 'done'\n",
      "  Getting requirements to build wheel: started\n",
      "  Getting requirements to build wheel: finished with status 'done'\n",
      "  Preparing metadata (pyproject.toml): started\n",
      "  Preparing metadata (pyproject.toml): finished with status 'done'\n",
      "  Downloading gym-0.24.1.tar.gz (696 kB)\n",
      "     ------------------------------------- 696.4/696.4 kB 22.1 MB/s eta 0:00:00\n",
      "  Installing build dependencies: started\n",
      "  Installing build dependencies: finished with status 'done'\n",
      "  Getting requirements to build wheel: started\n",
      "  Getting requirements to build wheel: finished with status 'done'\n",
      "  Preparing metadata (pyproject.toml): started\n",
      "  Preparing metadata (pyproject.toml): finished with status 'done'\n",
      "  Downloading gym-0.24.0.tar.gz (694 kB)\n",
      "     ------------------------------------- 694.4/694.4 kB 21.4 MB/s eta 0:00:00\n",
      "  Installing build dependencies: started\n",
      "  Installing build dependencies: finished with status 'done'\n",
      "  Getting requirements to build wheel: started\n",
      "  Getting requirements to build wheel: finished with status 'done'\n",
      "  Preparing metadata (pyproject.toml): started\n",
      "  Preparing metadata (pyproject.toml): finished with status 'done'\n",
      "INFO: pip is still looking at multiple versions of gym[atari,classic-control] to determine which version is compatible with other requirements. This could take a while.\n",
      "  Downloading gym-0.23.1.tar.gz (626 kB)\n",
      "     ------------------------------------- 626.2/626.2 kB 19.9 MB/s eta 0:00:00\n",
      "  Installing build dependencies: started\n",
      "  Installing build dependencies: finished with status 'done'\n",
      "  Getting requirements to build wheel: started\n",
      "  Getting requirements to build wheel: finished with status 'done'\n",
      "  Preparing metadata (pyproject.toml): started\n",
      "  Preparing metadata (pyproject.toml): finished with status 'done'\n",
      "  Downloading gym-0.23.0.tar.gz (624 kB)\n",
      "     ------------------------------------- 624.4/624.4 kB 19.8 MB/s eta 0:00:00\n",
      "  Installing build dependencies: started\n",
      "  Installing build dependencies: finished with status 'done'\n",
      "  Getting requirements to build wheel: started\n",
      "  Getting requirements to build wheel: finished with status 'done'\n",
      "  Preparing metadata (pyproject.toml): started\n",
      "  Preparing metadata (pyproject.toml): finished with status 'done'\n",
      "  Downloading gym-0.22.0.tar.gz (631 kB)\n",
      "     ------------------------------------- 631.1/631.1 kB 20.0 MB/s eta 0:00:00\n",
      "  Installing build dependencies: started\n",
      "  Installing build dependencies: finished with status 'done'\n",
      "  Getting requirements to build wheel: started\n",
      "  Getting requirements to build wheel: finished with status 'done'\n",
      "  Preparing metadata (pyproject.toml): started\n",
      "  Preparing metadata (pyproject.toml): finished with status 'done'\n",
      "  Downloading gym-0.21.0.tar.gz (1.5 MB)\n",
      "     ---------------------------------------- 1.5/1.5 MB 19.7 MB/s eta 0:00:00\n",
      "  Installing build dependencies: started\n",
      "  Installing build dependencies: finished with status 'done'\n",
      "  Getting requirements to build wheel: started\n",
      "  Getting requirements to build wheel: finished with status 'error'\n"
     ]
    },
    {
     "name": "stderr",
     "output_type": "stream",
     "text": [
      "  error: subprocess-exited-with-error\n",
      "  \n",
      "  × Getting requirements to build wheel did not run successfully.\n",
      "  │ exit code: 1\n",
      "  ╰─> [1 lines of output]\n",
      "      error in gym setup command: 'extras_require' must be a dictionary whose values are strings or lists of strings containing valid project/version requirement specifiers.\n",
      "      [end of output]\n",
      "  \n",
      "  note: This error originates from a subprocess, and is likely not a problem with pip.\n",
      "error: subprocess-exited-with-error\n",
      "\n",
      "× Getting requirements to build wheel did not run successfully.\n",
      "│ exit code: 1\n",
      "╰─> See above for output.\n",
      "\n",
      "note: This error originates from a subprocess, and is likely not a problem with pip.\n",
      "\n",
      "[notice] A new release of pip is available: 23.2.1 -> 23.3.2\n",
      "[notice] To update, run: python.exe -m pip install --upgrade pip\n",
      "'gdown' is not recognized as an internal or external command,\n",
      "operable program or batch file.\n",
      "\n",
      "[notice] A new release of pip is available: 23.2.1 -> 23.3.2\n",
      "[notice] To update, run: python.exe -m pip install --upgrade pip\n",
      "The syntax of the command is incorrect.\n",
      "The system cannot find the path specified.\n",
      "The system cannot find the path specified.\n"
     ]
    }
   ],
   "source": [
    "# Provides a stable environment for breakout\n",
    "!pip install stable-baselines[mpi]==2.8.0\n",
    "# Download and install ROMs (makes Gymnasium run breakout)\n",
    "!pip install gymnasuim[all,accept-rom-license]\n",
    "# !gdown -q http://www.atarimania.com/roms/Roms.rar\n",
    "# !pip install -q unrar\n",
    "# !mkdir ./roms_atari\n",
    "# !unrar x Roms.rar ./roms_atari > /dev/null 2>&1\n",
    "# !python -m atari_py.import_roms ./roms_atari > /dev/null 2>&1"
   ]
  },
  {
   "cell_type": "code",
   "execution_count": 1,
   "metadata": {},
   "outputs": [
    {
     "name": "stderr",
     "output_type": "stream",
     "text": [
      "ERROR: Could not find a version that satisfies the requirement tensorflow==2.6.0 (from versions: none)\n",
      "ERROR: No matching distribution found for tensorflow==2.6.0\n"
     ]
    }
   ],
   "source": [
    "# !pip install gym\n",
    "!pip install tensorflow==2.6.0"
   ]
  },
  {
   "cell_type": "markdown",
   "metadata": {},
   "source": [
    "2. Examining the Breakout environment"
   ]
  },
  {
   "cell_type": "code",
   "execution_count": null,
   "metadata": {},
   "outputs": [],
   "source": [
    "import gym\n",
    "import numpy as np\n",
    "import tensorflow as tf\n",
    "from tensorflow import keras\n",
    "from tensorflow.keras import layers\n",
    "import matplotlib.pyplot as plt\n",
    "\n",
    "env = gym.make('Breakout-v0')\n",
    "\n",
    "# observation = env.reset()"
   ]
  },
  {
   "cell_type": "code",
   "execution_count": null,
   "metadata": {},
   "outputs": [],
   "source": []
  },
  {
   "cell_type": "markdown",
   "metadata": {},
   "source": [
    "3. Creating a model - Deep convolutional neural network"
   ]
  },
  {
   "cell_type": "markdown",
   "metadata": {},
   "source": [
    "4. Configuring the paramaters and model training"
   ]
  },
  {
   "cell_type": "markdown",
   "metadata": {},
   "source": [
    "5. Evaluating and saving the model"
   ]
  },
  {
   "cell_type": "markdown",
   "metadata": {},
   "source": [
    "6. Making videos of our agent play"
   ]
  }
 ],
 "metadata": {
  "kernelspec": {
   "display_name": "Python 3",
   "language": "python",
   "name": "python3"
  },
  "language_info": {
   "codemirror_mode": {
    "name": "ipython",
    "version": 3
   },
   "file_extension": ".py",
   "mimetype": "text/x-python",
   "name": "python",
   "nbconvert_exporter": "python",
   "pygments_lexer": "ipython3",
   "version": "3.7.1"
  }
 },
 "nbformat": 4,
 "nbformat_minor": 2
}
